{
  "nbformat": 4,
  "nbformat_minor": 0,
  "metadata": {
    "colab": {
      "provenance": []
    },
    "kernelspec": {
      "name": "python3",
      "display_name": "Python 3"
    },
    "language_info": {
      "name": "python"
    }
  },
  "cells": [
    {
      "cell_type": "markdown",
      "source": [
        "####GOAL\n",
        "\n",
        "**S condition**: Determine the wavefunction, the energy, the probability (maybe) of a particle in a rectangle triangular box.\n",
        "\n",
        "**S+ condition**: Add an electric field and see what will happen.\n",
        "\n",
        "**What to do ?**:\n",
        "- ✔️ Create a repository for everybody ! (even Paul and Rick so that they can check)\n",
        "- ✔️ Establish the box shape and give the boundaries condition\n",
        "    - code a graph for it\n",
        "- Solve the schrodinger equation using the boundary condition and chebyshev (refer to the sloped bottom particle in a box exercice)\n",
        "  - ✔️ write out equation rearranged // derived in markup text\n",
        "  - write in code\n",
        "- Determine the energy if possible and eigenfunction\n",
        "\n",
        "\n"
      ],
      "metadata": {
        "id": "WatuCHeI3akp"
      }
    },
    {
      "cell_type": "code",
      "execution_count": null,
      "metadata": {
        "id": "3mEMW1Bg3Mrg"
      },
      "outputs": [],
      "source": [
        "import scipy\n",
        "import numpy as np\n",
        "import math\n",
        "import matplotlib.pyplot as plt"
      ]
    },
    {
      "cell_type": "markdown",
      "source": [
        "The Boundary conditions are depicted below:"
      ],
      "metadata": {
        "id": "Xb8rIAuy5LYJ"
      }
    },
    {
      "cell_type": "code",
      "source": [
        "# Define the triangle vertices (right-angled at the origin)\n",
        "x = [0, 4, 0, 0]  # x-coordinates\n",
        "y = [0, 0, 3, 0]  # y-coordinates\n",
        "\n",
        "# Create the plot\n",
        "plt.figure(figsize=(5,5))\n",
        "plt.plot(x, y, 'bo-', linewidth=5)  # Plot triangle edges\n",
        "\n",
        "# Set limits and grid\n",
        "plt.xlim(0, 5)\n",
        "plt.ylim(0, 4)\n",
        "plt.grid(True, linestyle='', alpha=0.6)\n",
        "plt.axhline(0, color='black', linewidth=1)\n",
        "plt.axvline(0, color='black', linewidth=1)\n",
        "plt.title(\"Right-Angled Triangular Well\")\n",
        "plt.show()"
      ],
      "metadata": {
        "colab": {
          "base_uri": "https://localhost:8080/",
          "height": 468
        },
        "id": "HLj0D1wR27yf",
        "outputId": "3bda3d1c-4f7c-498a-cb42-babb6e569329"
      },
      "execution_count": null,
      "outputs": [
        {
          "output_type": "display_data",
          "data": {
            "text/plain": [
              "<Figure size 500x500 with 1 Axes>"
            ],
            "image/png": "[encoded data removed]"
          },
          "metadata": {}
        }
      ]
    },
    {
      "cell_type": "markdown",
      "source": [
        "Boundary Conventions:\n",
        "$$\n",
        "V(x) =\n",
        "\\begin{cases}\n",
        "    +\\infty & x\\leq 0\\\\\n",
        "    0       & 0\\lt x \\lt a\n",
        "    \\\\\n",
        "    +\\infty & a \\leq x\n",
        "\\end{cases}\n",
        "$$\n",
        "\n",
        "$$\n",
        "V(y) =\n",
        "\\begin{cases}\n",
        "    +\\infty & y\\leq 0\\\\\n",
        "    0       & 0\\lt y \\lt b\n",
        "    \\\\\n",
        "    +\\infty & b \\leq y\n",
        "\\end{cases}\n",
        "$$\n",
        "\n",
        "\n",
        "\n",
        "\n",
        "Hamiltonian specific to the box:\n",
        "$$ \\hat{H} = - \\frac{\\hbar^2}{2m} \\frac{d^2}{dx^2} - \\frac{\\hbar^2}{2m} \\frac{d^2}{dy^2} +V(x,y) $$\n",
        "\n",
        "$$ \\hat{H}_{inbox} = - \\frac{\\hbar^2}{2m} * (\\frac{d^2}{dx^2} + \\frac{d^2}{dy^2})  $$\n",
        "\n",
        "Equation of the box:\n",
        "$$ \\hat{H}*\\Psi(x,y) = E\\Psi(x,y)$$\n",
        "\n"
      ],
      "metadata": {
        "id": "WbV1D8ouQfm1"
      }
    },
    {
      "cell_type": "markdown",
      "source": [
        "#### **The Real Right-angle box**\n",
        "\n",
        "To properly solve this equation we need to use what we call Chebyshev polynmials and expand them into a basis. The Chebyshev best work in between [-1,+1] domain, so to get have an easier time some changes on the above box is require to make it fit between [-1,+1]. We will get:    \n",
        "\n",
        "**The boundaries equations**\n",
        "\n",
        "Originally we have:\n",
        "$$\n",
        "0 < x < a\n",
        "$$\n",
        "$$\n",
        "0 < y < b\n",
        "$$\n",
        "$$\n",
        "Y =  -\\frac{b}{a} x + b\n",
        "$$\n",
        "\n",
        "Now we have:\n",
        "$$\n",
        "\\tilde{x} = -1 +\\frac{2x}{a}\n",
        "$$\n",
        "$$\n",
        "\\tilde{y} = -1 +\\frac{2y}{b}\n",
        "$$\n",
        "$$\n",
        "\\tilde{Y} = -\\tilde{x} +1\n",
        "$$\n",
        "\n",
        "Each of these equations can be explained, for the first two equation. When y or x is equal to 0 the result of the equation will be -1 and when x is equal to a or y is equal to b, the result of the equation will be +1.\n",
        "As for the last equation we follow linear function going from  $\\tilde{x}$ at -1 to +1 and $\\tilde{y}$ going from +1 to -1, leading to the equation we have.\n",
        "\n",
        "This shows the new boundary of the box and the new equations used to determine the position inside the box as it can be seen below."
      ],
      "metadata": {
        "id": "swJ7AfIBRyvG"
      }
    },
    {
      "cell_type": "code",
      "source": [
        "# Define the triangle vertices (right-angled at the origin)\n",
        "x = [-1, -1, 1, -1]  # x-coordinates\n",
        "y = [-1, 1, -1,  -1]  # y-coordinates\n",
        "\n",
        "# Create the plot\n",
        "plt.figure(figsize=(5,5))\n",
        "plt.plot(x, y, 'bo-', linewidth=5)  # Plot triangle edges\n",
        "\n",
        "# Set limits and grid\n",
        "plt.xlim(-2, 2)\n",
        "plt.ylim(-2, 2)\n",
        "plt.grid(True, linestyle='', alpha=0.6)\n",
        "plt.axhline(0, color='black', linewidth=1)\n",
        "plt.axvline(0, color='black', linewidth=1)\n",
        "plt.title(\"Right-Angled Triangular Well\")\n",
        "plt.show()"
      ],
      "metadata": {
        "id": "1n4W_XAo8pyn",
        "colab": {
          "base_uri": "https://localhost:8080/",
          "height": 468
        },
        "outputId": "3de28c2f-3dc1-4672-a4ee-70fb3650676c"
      },
      "execution_count": null,
      "outputs": [
        {
          "output_type": "display_data",
          "data": {
            "text/plain": [
              "<Figure size 500x500 with 1 Axes>"
            ],
            "image/png": "[encoded data removed]"
          },
          "metadata": {}
        }
      ]
    },
    {
      "cell_type": "markdown",
      "source": [
        "The new boundary conventions:\n",
        "\n",
        "$$\n",
        "V(\\tilde{x}) =\n",
        "\\begin{cases}\n",
        "    +\\infty & \\tilde{x}\\leq -1\\\\\n",
        "    0       & -1\\lt \\tilde{x} \\lt 1\n",
        "    \\\\\n",
        "    +\\infty & 1 \\leq \\tilde{x}\n",
        "\\end{cases}\n",
        "$$\n",
        "\n",
        "$$\n",
        "V(\\tilde{y}) =\n",
        "\\begin{cases}\n",
        "    +\\infty & \\tilde{y}\\leq -1\\\\\n",
        "    0       & -1\\lt \\tilde{y} \\lt 1\n",
        "    \\\\\n",
        "    +\\infty & 1 \\leq \\tilde{y}\n",
        "\\end{cases}\n",
        "$$"
      ],
      "metadata": {
        "id": "T2nHu6kd3f4Y"
      }
    },
    {
      "cell_type": "markdown",
      "source": [
        "According to the new bondary conventions, we will get a boundary equation (the equation that will give 0 when we are located in one of the side of the box) looking like:\n",
        "$$\n",
        "(\\tilde{y}+1)(\\tilde{x}+1)(\\tilde{x}+\\tilde{y}-1)\n",
        "$$\n",
        "\n",
        "Implementing this witht the Chebyshevs polynomial in the wavefunction will we obtain:\n",
        "$$\n",
        "(- \\frac{\\hbar^2}{2m} \\frac{d^2}{dx^2} - \\frac{\\hbar^2}{2m} \\frac{d^2}{dy^2})∑c_{nm} T_{m(\\tilde{x})}T_{n(\\tilde{y})}(\\tilde{y}+1)(\\tilde{x}+1)(\\tilde{x}+\\tilde{y}-1)\n",
        "$$\n",
        "\n",
        "To simplify the equation and make it easier to read we can say that:\n",
        "$$\n",
        "B_{mn}(\\tilde{x},\\tilde{y}) = T_{m(\\tilde{x})}T_{n(\\tilde{y})}(\\tilde{y}+1)(\\tilde{x}+1)(\\tilde{x}+\\tilde{y}-1)\n",
        "$$\n",
        "As this part basically represent the basis for the futur matrice that we are going to expand.\n",
        "\n",
        "So we get:\n",
        "$$\n",
        "(- \\frac{\\hbar^2}{2m} \\nabla^2)∑c_{nm}B_{mn}(\\tilde{x},\\tilde{y}) = E * ∑c_{nm}B_{mn}(\\tilde{x},\\tilde{y})\n",
        "$$\n",
        "\n",
        "However the laplacian is still express as a matter of $\\frac{d^2}{dx^2}$ we have to change this to get it express as $\\frac{d^2}{d\\tilde{x}^2}$:\n",
        "$$\n",
        "\\frac{dx}{d\\tilde{x}}\\frac{d}{dx}=\\frac{d}{d\\tilde{x}}\n",
        "$$\n",
        "<br>\n",
        "$$\n",
        "\\frac{d\\tilde{x}}{dx}\\frac{d}{d\\tilde{x}}=\\frac{d}{dx}\n",
        "$$\n",
        "<br>\n",
        "$$\n",
        "\\frac{2}{a}\\frac{d}{d\\tilde{x}}=\\frac{d}{dx}\n",
        "$$\n",
        "<br>\n",
        "$$\n",
        "\\frac{4}{a^2}\\frac{d^2}{d\\tilde{x}^2}=\\frac{d^2}{dx^2}\n",
        "$$\n",
        "<br>\n",
        "\n",
        "For $\\frac{d^2}{d{y}^2}$ the result will be similar, we will get $\\frac{4}{b^2}\\frac{d^2}{d\\tilde{y}^2}=\\frac{d^2}{dy^2}$\n",
        "\n",
        "<br>\n",
        "So the overall equation will look like:\n",
        "\n",
        "<br>\n",
        "$$\n",
        "(- \\frac{\\hbar^2}{2m} (\\frac{4}{a^2}) \\frac{d^2}{d\\tilde{x}^2} - \\frac{\\hbar^2}{2m} (\\frac{4}{b^2}) \\frac{d^2}{d\\tilde{y}^2})∑c_{nm}B_{mn}(\\tilde{x},\\tilde{y})=E * ∑c_{nm}B_{mn}(\\tilde{x},\\tilde{y})\n",
        "$$\n",
        "<br>\n",
        "\n",
        "With:\n",
        "$$\n",
        "\\Psi(x,y) = ∑c_{mm}B_{mn}(\\tilde{x},\\tilde{y})\n",
        "$$\n",
        "And:\n",
        "<br>\n",
        "$$\n",
        "\\tilde{\\hat{H}}= (- \\frac{\\hbar^2}{2m} (\\frac{4}{a^2}) \\frac{d^2}{d\\tilde{x}^2} - \\frac{\\hbar^2}{2m} (\\frac{4}{b^2}) \\frac{d^2}{d\\tilde{y}^2})\n",
        "$$"
      ],
      "metadata": {
        "id": "zOS1DdaTLQbf"
      }
    },
    {
      "cell_type": "markdown",
      "source": [
        "#### Expand the basis and solve the secular equation of the system\n",
        "\n",
        "Starting with what we obtain lastly:\n",
        "\n",
        "$$\n",
        "\\Psi(x,y) = ∑c_{nm}B_{mn}(\\tilde{x},\\tilde{y})\n",
        "$$\n",
        "<br>\n",
        "$$\n",
        "\\tilde{\\hat{H}}= (- \\frac{\\hbar^2}{2m} (\\frac{4}{a^2}) \\frac{d^2}{d\\tilde{x}^2} - \\frac{\\hbar^2}{2m} (\\frac{4}{b^2}) \\frac{d^2}{d\\tilde{y}^2})\n",
        "$$\n",
        "\n",
        "We multiply on the left by $B_{jk}(\\tilde{x}\\tilde{y})$ and we do a double integration over the spaces looking like:\n",
        "$$\n",
        "∑[∫_{-1}^{1}∫_{-1}^{-\\tilde{y}}B_{jk}(\\tilde{x}\\tilde{y})*\\tilde{\\hat{H}}B_{mn}(\\tilde{x},\\tilde{y})d\\tilde{x}d\\tilde{y}]c_{mn} = E∑[∫_{-1}^{1}∫_{-1}^{-\\tilde{y}}B_{jk}(\\tilde{x}\\tilde{y})*B_{mn}(\\tilde{x},\\tilde{y})d\\tilde{x}d\\tilde{y}]c_{mn}\n",
        "$$\n",
        "<br>\n",
        "This could be simplified by saying:\n",
        "<br>\n",
        "$$\n",
        "H=∫_{-1}^{1}∫_{-1}^{-\\tilde{y}}B_{jk}(\\tilde{x}\\tilde{y})*\\tilde{\\hat{H}}B_{mn}(\\tilde{x},\\tilde{y})d\\tilde{x}d\\tilde{y}\n",
        "$$\n",
        "<br>\n",
        "$$\n",
        "S = ∫_{-1}^{1}∫_{-1}^{-\\tilde{y}}B_{jk}(\\tilde{x}\\tilde{y})*B_{mn}(\\tilde{x},\\tilde{y})d\\tilde{x}d\\tilde{y}\n",
        "$$\n",
        "<br>\n",
        "This will gives us a generalized matrix eigenvalue problem:\n",
        "$$ Hc=ESc$$\n",
        "<br>\n",
        "And solving those integrals will allow us to find the eigenvalues of the system.\n",
        "\n",
        "**Important to note:** The lowest eigenvalue will always be greater than or equal to the true energy value of the ground-state energy."
      ],
      "metadata": {
        "id": "l7AOcEtaU-Ja"
      }
    },
    {
      "cell_type": "code",
      "source": [
        "import numpy as np\n",
        "import matplotlib.pyplot as plt\n",
        "from numpy.polynomial import Polynomial\n",
        "\n",
        "from scipy.integrate import dblquad\n",
        "from scipy.linalg import eigh\n",
        "from scipy.optimize import minimize\n",
        "from numpy.polynomial import Chebyshev as T\n",
        "\n",
        "## Determine the box parameter (max length is two)\n",
        "def box_parameter(a,b):\n",
        "  if a > 2 or a < 0:\n",
        "    print(\"The length parameter a for the box is too small or too big, please change the value to be between 0 and 2\")\n",
        "  elif b > 2 or b < 0:\n",
        "    print(\"The height parameter b for the box is too small or too big, please change the value to be between 0 and 2\")\n",
        "  else:\n",
        "    return a,b\n",
        "\n",
        "## Change down the cooridnate so that it will work better for Chebyshev polynomial\n",
        "def new_box_parameter(x,y,a,b):\n",
        "  tilde_x = (-1 + 2*x/a)\n",
        "  tilde_y = (-1 + 2*y/b)\n",
        "  return tilde_x, tilde_y\n",
        "\n",
        "## Set the boundary equation of the\n",
        "def boundary_equation(tilde_x,tilde_y):\n",
        "  boundary_eq = (tilde_y+1)*(tilde_x+1)*(tilde_x+tilde_y-1)\n",
        "  return boundary_eq\n",
        "\n",
        "## Define the bassis function\n",
        "def basis_function(m, n, tilde_x,tilde_y):\n",
        "  T_m = T.basis(m)(tilde_x)\n",
        "  T_n = T.basis(n)(tilde_y)\n",
        "\n",
        "  B_mn = T_m*T_n*boundary_equation(tilde_x,tilde_y)\n",
        "  return B_mn\n",
        "\n",
        "# Precompute basis function evaluations\n",
        "def compute_basis_functions(N):\n",
        "    def basis_func_wrapper(m, n):\n",
        "        return lambda x, y: basis_function(m, n, x, y)\n",
        "\n",
        "    return np.array([\n",
        "        [basis_func_wrapper(m, n) for n in range(N)]\n",
        "        for m in range(N)\n",
        "    ])\n",
        "\n",
        "\n",
        "# Compute the Chebyshev differentiation matrix\n",
        "def chebyshev_diff_matrix(N):\n",
        "    \"\"\"\n",
        "    Compute the Chebyshev differentiation matrix for N+1 points.\n",
        "    \"\"\"\n",
        "    x = np.cos(np.pi * np.arange(N + 1) / N)  # Chebyshev nodes\n",
        "    c = np.ones(N + 1)\n",
        "    c[0] = c[-1] = 2  # Special weight for endpoints\n",
        "    C = np.tile(c, (N + 1, 1))\n",
        "    X = np.tile(x, (N + 1, 1)).T\n",
        "    D = (C / C.T) / (X - X.T + np.eye(N + 1))  # Compute differentiation matrix\n",
        "    D -= np.diag(np.sum(D, axis=1))  # Enforce zero row sum\n",
        "    D2 = np.dot(D, D)  # Compute second derivative matrix\n",
        "    return D, D2, x  # Return second derivative matrix too\n",
        "\n",
        "# Compute second derivatives using the Chebyshev differentiation matrix\n",
        "#def second_derivative_chebyshev(f_coeffs, D):\n",
        "    \"\"\"\n",
        "    Compute the second derivative of f using the Chebyshev differentiation matrix.\n",
        "    \"\"\"\n",
        "    #D2 = np.dot(D, D)  # Second derivative matrix\n",
        "    #return np.dot(D2, f_coeffs)  # Apply to function coefficients\n",
        "\n",
        "\n",
        "#Def the Hamiltonian part of the equation\n",
        "def hamiltonian_matrix(N, a, b, D2_x, D2_y, basis_function):\n",
        "    H = np.zeros((N*N, N*N))\n",
        "\n",
        "    for j in range(N):\n",
        "        for k in range(N):\n",
        "            for m in range(N):\n",
        "                for n in range(N):\n",
        "                    # Define the integrand\n",
        "                    def integrand(tilde_x, tilde_y):\n",
        "                        B_jk = basis_functions[j][k](tilde_x, tilde_y)\n",
        "                        B_mn = basis_functions[m][n](tilde_x, tilde_y)\n",
        "\n",
        "                        # Apply Chebyshev second derivative matrices\n",
        "                        d2Bdx2 = sum(D2_x[j, p] * basis_functions[p, k](tilde_x, tilde_y) for p in range(N+1))\n",
        "                        d2Bdy2 = sum(D2_y[k, q] * basis_functions[j, q](tilde_x, tilde_y) for q in range(N+1))\n",
        "\n",
        "                        Hmn = - (4 / a**2) * d2Bdx2 - (4 / b**2) * d2Bdy2  # Laplacian part\n",
        "\n",
        "                        return B_jk.conjugate() * Hmn * B_mn  # Multiply by B*_jk\n",
        "\n",
        "                    # Compute double integral over the domain\n",
        "                    H_jk_mn, _ = dblquad(integrand, -1, 1, lambda x: -1, lambda x: tilde_x)\n",
        "\n",
        "                    H[j * N + k, m * N + n] = H_jk_mn\n",
        "\n",
        "    return H\n",
        "\n",
        "\n",
        "#Def the overlap matrix\n",
        "# Compute the overlap matrix\n",
        "def overlap_matrix(N, basis_functions):\n",
        "    S = np.zeros((N*N, N*N))\n",
        "\n",
        "    for j in range(N):\n",
        "        for k in range(N):\n",
        "            for m in range(N):\n",
        "                for n in range(N):\n",
        "                    def integrand(tilde_x, tilde_y):\n",
        "                        B_jk = basis_functions[j][k](tilde_x, tilde_y)\n",
        "                        B_mn = basis_functions[m][n](tilde_x, tilde_y)\n",
        "                        return np.conjugate(B_jk) * B_mn  # Overlap term\n",
        "\n",
        "                    S_jk_mn, _ = dblquad(integrand, -1, 1, lambda x: -1, lambda x: tilde_x)\n",
        "                    S[j * N + k, m * N + n] = S_jk_mn\n",
        "\n",
        "    return S\n",
        "\n",
        "def solve_eigenproblem(H, S):\n",
        "    # Solve generalized eigenvalue problem Hc = EcS\n",
        "    E, C = eigh(H, S)\n",
        "    return E, C"
      ],
      "metadata": {
        "id": "QXfXwHlHXIkW",
        "collapsed": true
      },
      "execution_count": 7,
      "outputs": []
    },
    {
      "cell_type": "code",
      "source": [
        "#Check if the box parameter are correct\n",
        "a = 2\n",
        "b = 1.5\n",
        "box_parameter(a,b)\n",
        "#New equation\n",
        "#x_tilde, y_tilde = new_box_parameter(x,y,a,b)\n",
        "\n",
        "# Basis function storage\n",
        "#N = #number of basis\n",
        "#basis_functions = compute_basis_functions(N)\n",
        "\n",
        "# Compute Hamiltonian and Overlap matrices\n",
        "#H = hamiltonian_matrix(N, a, b, D2_x, D2_y, basis_functions)\n",
        "#S = overlap_matrix(N, basis_functions)\n",
        "\n",
        "# Solve for eigenvalues and eigenvectors\n",
        "#E, C = solve_eigenproblem(H, S)\n",
        "\n",
        "# Print lowest eigenvalues (ground state and excited states)\n",
        "#print(\"Eigenvalues (Energy Levels):\", E[:10])  # Print first 10 energy levels"
      ],
      "metadata": {
        "colab": {
          "base_uri": "https://localhost:8080/"
        },
        "id": "y6KhTwdoGy8F",
        "outputId": "24ae9e9c-b5c6-45dc-e9c1-e4408e880b30"
      },
      "execution_count": 9,
      "outputs": [
        {
          "output_type": "execute_result",
          "data": {
            "text/plain": [
              "(2, 1.5)"
            ]
          },
          "metadata": {},
          "execution_count": 9
        }
      ]
    },
    {
      "cell_type": "markdown",
      "source": [],
      "metadata": {
        "id": "01wcnYGWXxiv"
      }
    }
  ]
}