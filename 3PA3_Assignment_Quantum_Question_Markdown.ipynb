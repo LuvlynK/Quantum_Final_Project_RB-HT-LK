{
  "nbformat": 4,
  "nbformat_minor": 0,
  "metadata": {
    "colab": {
      "provenance": []
    },
    "kernelspec": {
      "name": "python3",
      "display_name": "Python 3"
    },
    "language_info": {
      "name": "python"
    }
  },
  "cells": [
    {
      "cell_type": "markdown",
      "source": [
        "## Test Question On Several Subjects Of The Course\n",
        "\n",
        "1. 🎲 Multiple-Choice Questions (one or more answers, separated by spaces or commas)\n",
        "2. 🪙 True/False Questions (write True/False)\n",
        "3. 🖩 Numerical answers requiring some calculation (write the numerical answer in the requested units; significant figures are not checked)\n",
        "4. 🧮 Numerical answers requiring no calculation (usually just counting) (write the answer as a number)\n",
        "5. 🔀 Matching Questions (write pairs sequentially)."
      ],
      "metadata": {
        "id": "1dKpeEy5ZoeG"
      }
    },
    {
      "cell_type": "markdown",
      "source": [
        "**1. 🎲 Multiple choice question for part 3 (From Newton to Schrodinger)**\n",
        "\n",
        "In physics, action is a fundamental quantity defined as the integral of the Lagrangian (L) over time:\n",
        "$\n",
        "\\begin{align}\n",
        "S &= \\int L\\,dt\n",
        "\\end{align}\n",
        "$\n",
        "\n",
        "Where the Lagrangian is the difference between kinetic and potential energy (L = T - V). The principle of least action states that a physical system follows a path that extremizes this quantity, leading to the equations\n",
        "of motion in classical mechanics with the units:\n",
        "$\n",
        "kg \\cdot m^{2} \\cdot s^{-1} \\\\\n",
        "$\n",
        "Or\n",
        "$\n",
        "J \\cdot s\n",
        "$\n",
        "\n",
        "In quantum mechanics, Planck’s constant (h) plays a crucial role in determining the scale at which quantum effects emerge.\n",
        "$$\n",
        "\\\\\n",
        "$$\n",
        "\n",
        "What does Planck’s constant represent in terms of action?\n",
        "\n",
        "\n",
        "|  |  |\n",
        "|------------|------------|\n",
        "| **A.** | The fundamental unit of action, setting the smallest possible scale at which quantum effects become significant. |\n",
        "| **B.** | A measure of the energy of a system per unit time. |\n",
        "| **C.** | A conversion factor between mass and energy in relativistic systems. |\n",
        "| **D.** | The maximum possible action a system can have before quantum effects disappear. |"
      ],
      "metadata": {
        "id": "med49hMu2l-t"
      }
    },
    {
      "cell_type": "markdown",
      "source": [
        "Answer: A)\n",
        "Explanation:\n",
        "Planck’s constant defines the smallest meaningful unit of action in nature, below which classical descriptions completely break down and systems entirely quantum mechanical.\n",
        "\n",
        "The other choices are incorrect because:\n",
        "\n",
        "(B) confuses action with power.\n",
        "\n",
        "(C) confuses Planck’s constant with Einstein’s mass-energy equivalence.\n",
        "\n",
        "(D) incorrectly suggests an upper limit where quantum effect are non-existent. Planck’s constant defines a lower bound where quantum effects become fully dominate but are still present in principle but not observable at the macroscopic scale."
      ],
      "metadata": {
        "id": "Qr48tz4EeMEQ"
      }
    },
    {
      "cell_type": "markdown",
      "source": [
        "\n",
        "**2. &#x1F5A9; Calculation question for part 5 (The Particle in a Box)**\n",
        "\n",
        "What is the uncertainty in kinetic energy when n = 3 and a = 0.2123?\n",
        "\n",
        "\n"
      ],
      "metadata": {
        "id": "YDPQxTm32usK"
      }
    },
    {
      "cell_type": "markdown",
      "source": [
        "Answer: 0\n",
        "\n",
        "$$\n",
        "\\sigma_{T} = \\sqrt{ \\left< \\hat{T}^2 \\right> - \\left< \\hat{T} \\right>^2 }\n",
        "$$\n",
        "\n",
        "$$\n",
        "= \\sqrt{ \\left< \\left( \\frac{ \\hat{p}^2}{2m} \\right)^2 \\right> - \\left( \\frac{\\left< \\hat{p}^2 \\right>}{2m} \\right)^2}\n",
        "$$\n",
        "\n",
        "$$\n",
        "= \\sqrt{ \\frac{ \\left< \\hat{p}^4 \\right>}{4m^2} - \\frac{\\left< \\hat{p}^2 \\right>^2}{4m^2}}\n",
        "$$\n",
        "\n",
        "$$\n",
        "= \\frac{1}{2m} \\sqrt{ \\left< \\hat{p}^4 \\right> - \\left< \\hat{p}^2 \\right>^2}\n",
        "$$\n",
        "\n",
        "$$\n",
        "\\left< \\hat{p}^4 \\right> = \\int_{0}^{a} \\sqrt{\\frac{2}{a}} \\sin\\left(\\frac{n\\pi x}{a}\\right) \\left(-i \\hbar \\frac{d}{dx} \\right)^4 \\sqrt{\\frac{2}{a}}  \\sin\\left(\\frac{n\\pi x}{a}\\right) dx\n",
        "$$\n",
        "\n",
        "$$\n",
        "= \\frac{2 \\hbar^4}{a} \\int_{0}^{a} \\sin\\left(\\frac{n\\pi x}{a}\\right)\n",
        "\\left( \\frac{d^4}{dx^4} \\sin\\left(\\frac{n\\pi x}{a}\\right) \\right) dx\n",
        "$$\n",
        "\n",
        "$$\n",
        "= \\frac{2n^4 \\pi^4 \\hbar^4}{a^5} \\int_{0}^{a} \\sin^2\\left(\\frac{n\\pi x}{a}\\right) dx\n",
        "$$\n",
        "\n",
        "$$\n",
        "= \\frac{2n^4 \\pi^4 \\hbar^4}{a^5} \\int_{0}^{a} \\left(\\frac{1}{2} - \\frac{1}{2} \\cos\\left(\\frac{2n \\pi x}{a}\\right) \\right) \\,dx\n",
        "$$\n",
        "\n",
        "$$\n",
        "= \\frac{2n^4 \\pi^4 \\hbar^4}{a^5} \\left[ \\frac{x}{2} - \\frac{a}{4 n \\pi} \\sin\\left(\\frac{2n \\pi x}{a}\\right) \\right]_0^a\n",
        "$$\n",
        "\n",
        "$$\n",
        "= \\frac{2n^4 \\pi^4 \\hbar^4}{a^5} \\left[ \\frac{a}{2} \\right]\n",
        "$$\n",
        "\n",
        "$$\n",
        "\\left< \\hat{p}^4 \\right> = \\frac{\\hbar^4 \\pi^4 n^4}{a^4}\n",
        "$$\n",
        "\n",
        "$$\n",
        "\\left< \\hat{p}^2 \\right>^2 = \\left( \\frac{\\hbar^2 \\pi^2 n^2}{a^2} \\right)^2 = \\frac{\\hbar^4 \\pi^4 n^4}{a^4}\n",
        "$$\n",
        "\n",
        "$$\n",
        "\\sigma_{T} = \\frac{1}{2m} \\sqrt{ \\frac{\\hbar^4 \\pi^4 n^4}{a^4} - \\frac{\\hbar^4 \\pi^4 n^4}{a^4}} = 0\n",
        "$$"
      ],
      "metadata": {
        "id": "Fu0N98yoeaSY"
      }
    },
    {
      "cell_type": "markdown",
      "source": [
        "**3. &#x1f500; Associate the proper equation (Hamiltonian, Energies, Schrodinger equation) to the proper shape of the box.**\n",
        "\n",
        "|Box|Equation|\n",
        "|--|--|\n",
        "|**A.** Cylindrical Box|**1.**$\\psi_{n,l,}(\\mu,\\nu,) = R_{n,l}(\\mu) Y_l(\\nu)$ |\n",
        "|**B.** 2D squared box|**2.**$\\left(-\\frac{\\hbar^2}{2m} \\nabla^2 + V(r) \\right)\\psi(r,\\theta) = E \\psi(r,\\theta)$|\n",
        "|**C.** Spherical Box|**3.**\\begin{split}\n",
        "\\begin{align}\n",
        "\\hat{H}_6 &= -\\frac{\\hbar^2}{2m} \\frac{d^2}{dx^2} -\\frac{\\hbar^2}{2m} \\frac{d^2}{dy^2} -\\frac{\\hbar^2}{2m} \\frac{d^2}{dz^2} + V_{a_z}(z) + V_{a_r}(\\sqrt{x^2+y^2})\n",
        "\\end{align}\n",
        "\\end{split}|\n",
        "|**D.** Eliptical Box|**4.**$\\psi_{n,l,m_l}(r,\\theta,\\phi) = R_{n,l}(r) Y_l^{m_l}(\\theta,\\phi)$|\n",
        "|**E.** Disk |**5.**$\\left(-\\frac{\\hbar^2}{2m} \\frac{d^2}{dx^2} -\\frac{\\hbar^2}{2m} \\frac{d^2}{dy^2} + V(x,y) \\right)\\psi_{n_x,n_y}(x,y) = E_{n_x,n_y} \\psi_{n_x,n_y}(x,y)$|\n"
      ],
      "metadata": {
        "id": "AnTj4wnln8Vq"
      }
    },
    {
      "cell_type": "markdown",
      "source": [
        "**Answer :** A, 3, B, 5, C, 4, D, 1, E, 2\n",
        "\n",
        "A, 3 ==> The Hamiltonian posses a Z component varying on the potential V and also a radial component with $V_{a_r}$\n",
        "\n",
        "B, 5 ==> The equation has 2 dimensions (x and y) there is no radial component appearing, so it is a 2D squared particle in a box.\n",
        "\n",
        "C, 4 ==> We have three radial components for our schrodinger equation, the radius, theta and phi manking it a 3D sphere.\n",
        "\n",
        "D, 1 ==> The only equation with eliptical terms (mu and nu)\n",
        "\n",
        "E, 2 ==> It has two radial components not three and it is not eliptical coordinate so it represents a disk."
      ],
      "metadata": {
        "id": "Gzpv_FvzoPSv"
      }
    },
    {
      "cell_type": "markdown",
      "source": [
        "**4.&#x1f9ee; In a One-Electron Hydrogenic Atom starting with an energy level at $E_{2}$ going at an energy level of $E_{6}$ the energy will increase by a factor ___.**"
      ],
      "metadata": {
        "id": "hLdztQEKoGU6"
      }
    },
    {
      "cell_type": "markdown",
      "source": [
        "**Answer :**\n",
        "\n",
        "$E_{2} = -\\frac{1}{2*2^2} = -\\frac{1}{8} $\n",
        "\n",
        "$E{6} = -\\frac{1}{2*6^2} = -\\frac{1}{72} $\n",
        "\n",
        "==> $-\\frac{1}{72} = -\\frac{1}{8} * x $\n",
        "\n",
        "$x = \\frac{1}{9}$"
      ],
      "metadata": {
        "id": "A7Vl4p1lq2TC"
      }
    },
    {
      "cell_type": "markdown",
      "source": [
        "The time dependent and independent schrodinger equations have multiple applications.\n",
        "\n",
        "\n",
        "The time independent equation is denoted by:\n",
        "$$ \\hat{H}\\Psi = E \\Psi $$\n",
        "$$ or $$\n",
        "$$\\hat{H}(x) = -\\frac{\\hbar^2}{2m} \\frac{\\partial^2}{\\partial x^2} +V(x)$$\n",
        "\n",
        "\n",
        "The time dependent equation is denoted by:\n",
        "$$ \\hat{H}(x)\\Psi(x,t) = i \\hbar \\frac{\\partial \\Psi(x,t)}{\\partial t} $$"
      ],
      "metadata": {
        "id": "5u4Mq4MauXY3"
      }
    },
    {
      "cell_type": "markdown",
      "source": [
        "**5. &#x1fa99; The time dependent schrodinger equation can be used for systems with bound states, and the time independent schrodinger equation can be used for applications like spectroscopy. (True / False)**"
      ],
      "metadata": {
        "id": "hr0kOq6LtEJo"
      }
    },
    {
      "cell_type": "markdown",
      "source": [
        "**Answer**:FALSE\n",
        "\n",
        "It is the reverse; the time-independent schrodinger equation is used for systems with bound states such as the particle in a box, etc.\n",
        "The time dependent schrodiner equation is used for applications such as spectroscopy, where a molecule responds to time-dependent external electromagnetic fields."
      ],
      "metadata": {
        "id": "QrMyE3PDPjFF"
      }
    },
    {
      "cell_type": "markdown",
      "source": [
        "**6. &#x1f3b2; The Heisenburg Uncertainty Principle states that some quantum mechanical properties cannot be observed simultaneously. Which of the following statements show examples of this property? (can select more than one)**\n",
        "\n",
        "A. momentum (p) and position (x)\n",
        "\n",
        "B. momentum (p) and hamiltonian of a free particle (H)\n",
        "\n",
        "C. Elementary particles and atoms\n",
        "\n",
        "D. the wavefunction of the particle being an eigenstate of two operators\n",
        "\n",
        "E. $ [A,B] = \\hat{A}\\hat{B} - \\hat{B}\\hat{A} $\n",
        "\n",
        "F. Momentum and kinetic energy operators\n",
        "\n",
        "G. $ \\hat{Lx},\\hat{Ly},\\hat{Lz}$\n",
        "\n",
        "\n",
        "\n",
        "\n",
        "\n"
      ],
      "metadata": {
        "id": "FBP-lg-V39Ms"
      }
    },
    {
      "cell_type": "markdown",
      "source": [
        "**Answer**: A, C, G\n",
        "\n",
        "The ability for a function to depict heisenburg's uncertainty principle is defined by its ability to commute mathematically.\n",
        "\n",
        "If a Function can commute, then\n",
        "\n",
        "$$\n",
        "0 = \\left(\\hat{A} \\hat{B} - \\hat{B}\\hat{A}\\right) \\Psi(x) = \\left[\\hat{A}, \\hat{B} \\right] \\Psi(x)\n",
        "$$\n",
        "\n",
        "Similarly, two operators are said to *anticommute* if\n",
        "\n",
        "$$\n",
        "0 = \\left(\\hat{A} \\hat{B} + \\hat{B}\\hat{A}\\right) \\Psi(x) = \\left\\{\\hat{A}, \\hat{B} \\right\\} \\Psi(x)\n",
        "$$\n",
        "\n",
        "\n",
        "A. momentum (p) and position (x)\n",
        "- p is differential (does not commute)\n",
        "Therefore it is an example of Heisenburgs Principle\n",
        "\n",
        "B. momentum (p) and hamiltonian of a free particle (H)\n",
        "- (does commute)\n",
        "Therefore it is NOT an example of Heisenburgs Principle\n",
        "\n",
        "C. Elementary particles and atoms\n",
        "- subject to uncertainty principle\n",
        "\n",
        "D. the wavefunction of the particle being an eigenstate of two operators\n",
        "- this is necessary to measure 2 properties simultaneously\n",
        "This is NOT an example of the uncertainty principle\n",
        "\n",
        "E. $$ [A,B] = \\hat{A}\\hat{B} - \\hat{B}\\hat{A} $$\n",
        "- E is definining commutators (for two physicals to be simultaneously observable, their operator representations must commute.)             \n",
        "This is NOT an example of heisenburgs principle\n",
        "\n",
        "F. Momentum and kinetic energy operators\n",
        " - they commute                           \n",
        "This is NOT an example of the uncertainty principle\n",
        "\n",
        "G. $$ \\hat{Lx},\\hat{Ly},\\hat{Lz}$$\n",
        "- they dont commute                      \n",
        "Therefore it is an example of Heisenburgs Principle"
      ],
      "metadata": {
        "id": "mxoIJj4FvxUm"
      }
    },
    {
      "cell_type": "markdown",
      "source": [
        "**7. 🎲 Which is the proper slater determinant of a 3 electron system ?**\n",
        "\n",
        "A. $\\Psi(1,2,3) = \\frac{1}{\\sqrt{2!}}\n",
        "\\begin{vmatrix}\n",
        "\\phi_1(1) & \\phi_2(1) & \\phi_3(1) \\\\\n",
        "\\phi_1(2) & \\phi_2(2) & \\phi_3(2) \\\\\n",
        "\\phi_1(3) & \\phi_2(3) & \\phi_3(3)\n",
        "\\end{vmatrix}$\n",
        "\n",
        "<br>\n",
        "\n",
        "B. $\\Psi(1,2,3) = \\frac{1}{\\sqrt{3!}}\n",
        "\\begin{vmatrix}\n",
        "\\phi_1(1) & \\phi_2(1) & \\phi_3(1) \\\\\n",
        "\\phi_1(2) & \\phi_2(2) & \\phi_3(2) \\\\\n",
        "\\phi_1(3) & \\phi_2(3) & \\phi_3(3)\n",
        "\\end{vmatrix}$\n",
        "\n",
        "<br>\n",
        "\n",
        "C. $\\Psi(1,2,3) = \\frac{1}{\\sqrt{3!}}\n",
        "\\begin{vmatrix}\n",
        "\\phi_1(1) & \\phi_2(2) & \\phi_3(3) \\\\\n",
        "\\phi_1(3) & \\phi_2(1) & \\phi_3(2) \\\\\n",
        "\\phi_1(2) & \\phi_2(3) & \\phi_3(1)\n",
        "\\end{vmatrix}$\n",
        "\n",
        "<br>\n",
        "\n",
        "D. $\\Psi(1,2,3) = \\frac{1}{\\sqrt{3!}}\n",
        "\\begin{vmatrix}\n",
        "\\phi_1(1) & \\phi_2(1) & \\phi_3(1) \\\\\n",
        "\\phi_2(2) & \\phi_1(2) & \\phi_2(2) \\\\\n",
        "\\phi_3(3) & \\phi_3(3) & \\phi_1(3)\n",
        "\\end{vmatrix}$"
      ],
      "metadata": {
        "id": "HiikXWeOoloT"
      }
    },
    {
      "cell_type": "markdown",
      "source": [
        "**Answer**: B\n",
        "\n",
        "A ==> False because it is $\\frac{1}{\\sqrt{2!}}$ instead of $\\frac{1}{\\sqrt{3!}}$\n",
        "\n",
        "C ==> False because the electron numbering in parenthesis is wrongly arranged\n",
        "\n",
        "D ==> False because The spin orbitals numbering on the columns are wrong"
      ],
      "metadata": {
        "id": "mY_DSm0pRed0"
      }
    },
    {
      "cell_type": "markdown",
      "source": [
        "**8. 🎲 Which of the following properties are link to bosons ?**\n",
        "\n",
        "A. Half-integer spin\n",
        "\n",
        "B. Symmetric wavefunction\n",
        "\n",
        "C. Integer spin\n",
        "\n",
        "D. $\\eta=0$\n",
        "\n",
        "E. Antisymmetric wavefunction"
      ],
      "metadata": {
        "id": "lKV02WCPXfbH"
      }
    },
    {
      "cell_type": "markdown",
      "source": [
        "**Answer**: B, C, D\n",
        "\n",
        "Fermions have an half-integer spin, an antisymmetric wavefunction and $\\eta=1$\n",
        "\n",
        "Bosons have an integer spin, a symmetric wavefunction and $\\eta=0$"
      ],
      "metadata": {
        "id": "Tgd7zkaiJCvr"
      }
    },
    {
      "cell_type": "markdown",
      "source": [
        "**9. 🔀 Associate the orbitals with the proper labbeling.**\n",
        "\n",
        "|Box|Equation|\n",
        "|--|--|\n",
        "|A.![4p0-orbital.JPG](data:image/jpeg;base64,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)|1. $3d_0$|\n",
        "|B. ![3d0-orbital.JPG](data:image/jpeg;base64,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)|2. $4d_{-1}$|\n",
        "|C. ![2p1-orbital.JPG](data:image/jpeg;base64,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)|3. $4p_0$|\n",
        "|D. ![4d-1_orbital.JPG](data:image/jpeg;base64,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)|4. $3p_1$|\n",
        "|E. ![3p1-orbital.JPG](data:image/jpeg;base64,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)|5. $2p_1$|"
      ],
      "metadata": {
        "id": "uo8LmYffMRN3"
      }
    },
    {
      "cell_type": "markdown",
      "source": [
        "**Answer**: A, 3, B, 1, C, 5, D, 2, E, 4\n",
        "\n",
        "A, 3 ==> Not a complex structure and has 2 more lobes than a p orbital (if we take only half of the orbital)\n",
        "\n",
        "B, 1 ==> Not a complex structure and look like a $d{z^2}$ orbital\n",
        "\n",
        "C, 5 ==> Has a complex component to it and look like only one donut\n",
        "\n",
        "D, 2 ==> Has a complex component and look like a d orbital\n",
        "\n",
        "E, 4 ==> By deduction it is the only one left"
      ],
      "metadata": {
        "id": "S1nXi1IEXNs7"
      }
    },
    {
      "cell_type": "markdown",
      "source": [
        "**10. &#x1F5A9; Given a 2-Dimensional Particle in a Box with $a_x = 4$ and $a_y = 8$. What would be the value of $E_{3,6}$ ?**"
      ],
      "metadata": {
        "id": "mt_zCPktauah"
      }
    },
    {
      "cell_type": "markdown",
      "source": [
        "**Answer**: 6.777750827517267e-38\n"
      ],
      "metadata": {
        "id": "5S4CHipvcMMw"
      }
    },
    {
      "cell_type": "code",
      "source": [
        "import numpy\n",
        "import scipy\n",
        "from scipy import constants\n",
        "\n",
        "h = constants.h\n",
        "m = constants.m_e\n",
        "\n",
        "energy = h**2/(8*m)*(3**2/4**2 + 6**2/8**2)\n",
        "print(energy)"
      ],
      "metadata": {
        "colab": {
          "base_uri": "https://localhost:8080/"
        },
        "id": "oy7wCusceBaz",
        "outputId": "88f10923-24ba-487e-c28a-4d54f00f6309"
      },
      "execution_count": 2,
      "outputs": [
        {
          "output_type": "stream",
          "name": "stdout",
          "text": [
            "6.777750827517267e-38\n"
          ]
        }
      ]
    }
  ]
}